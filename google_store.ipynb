{
 "cells": [
  {
   "cell_type": "code",
   "execution_count": 1,
   "id": "cb799e0b",
   "metadata": {},
   "outputs": [],
   "source": [
    "import pandas as pd"
   ]
  },
  {
   "cell_type": "code",
   "execution_count": 3,
   "id": "6570bd4e",
   "metadata": {},
   "outputs": [],
   "source": [
    "data = pd.read_csv('C:/Users/Mihael/Documents/play_store_analys/googleplaystore.csv/googleplaystore.csv')\n"
   ]
  },
  {
   "cell_type": "code",
   "execution_count": 4,
   "id": "dba7b373",
   "metadata": {},
   "outputs": [
    {
     "data": {
      "text/html": [
       "<div>\n",
       "<style scoped>\n",
       "    .dataframe tbody tr th:only-of-type {\n",
       "        vertical-align: middle;\n",
       "    }\n",
       "\n",
       "    .dataframe tbody tr th {\n",
       "        vertical-align: top;\n",
       "    }\n",
       "\n",
       "    .dataframe thead th {\n",
       "        text-align: right;\n",
       "    }\n",
       "</style>\n",
       "<table border=\"1\" class=\"dataframe\">\n",
       "  <thead>\n",
       "    <tr style=\"text-align: right;\">\n",
       "      <th></th>\n",
       "      <th>App</th>\n",
       "      <th>Category</th>\n",
       "      <th>Rating</th>\n",
       "      <th>Reviews</th>\n",
       "      <th>Size</th>\n",
       "      <th>Installs</th>\n",
       "      <th>Type</th>\n",
       "      <th>Price</th>\n",
       "      <th>Content Rating</th>\n",
       "      <th>Genres</th>\n",
       "      <th>Last Updated</th>\n",
       "      <th>Current Ver</th>\n",
       "      <th>Android Ver</th>\n",
       "    </tr>\n",
       "  </thead>\n",
       "  <tbody>\n",
       "    <tr>\n",
       "      <th>0</th>\n",
       "      <td>Photo Editor &amp; Candy Camera &amp; Grid &amp; ScrapBook</td>\n",
       "      <td>ART_AND_DESIGN</td>\n",
       "      <td>4.1</td>\n",
       "      <td>159</td>\n",
       "      <td>19M</td>\n",
       "      <td>10,000+</td>\n",
       "      <td>Free</td>\n",
       "      <td>0</td>\n",
       "      <td>Everyone</td>\n",
       "      <td>Art &amp; Design</td>\n",
       "      <td>January 7, 2018</td>\n",
       "      <td>1.0.0</td>\n",
       "      <td>4.0.3 and up</td>\n",
       "    </tr>\n",
       "    <tr>\n",
       "      <th>1</th>\n",
       "      <td>Coloring book moana</td>\n",
       "      <td>ART_AND_DESIGN</td>\n",
       "      <td>3.9</td>\n",
       "      <td>967</td>\n",
       "      <td>14M</td>\n",
       "      <td>500,000+</td>\n",
       "      <td>Free</td>\n",
       "      <td>0</td>\n",
       "      <td>Everyone</td>\n",
       "      <td>Art &amp; Design;Pretend Play</td>\n",
       "      <td>January 15, 2018</td>\n",
       "      <td>2.0.0</td>\n",
       "      <td>4.0.3 and up</td>\n",
       "    </tr>\n",
       "    <tr>\n",
       "      <th>2</th>\n",
       "      <td>U Launcher Lite – FREE Live Cool Themes, Hide ...</td>\n",
       "      <td>ART_AND_DESIGN</td>\n",
       "      <td>4.7</td>\n",
       "      <td>87510</td>\n",
       "      <td>8.7M</td>\n",
       "      <td>5,000,000+</td>\n",
       "      <td>Free</td>\n",
       "      <td>0</td>\n",
       "      <td>Everyone</td>\n",
       "      <td>Art &amp; Design</td>\n",
       "      <td>August 1, 2018</td>\n",
       "      <td>1.2.4</td>\n",
       "      <td>4.0.3 and up</td>\n",
       "    </tr>\n",
       "    <tr>\n",
       "      <th>3</th>\n",
       "      <td>Sketch - Draw &amp; Paint</td>\n",
       "      <td>ART_AND_DESIGN</td>\n",
       "      <td>4.5</td>\n",
       "      <td>215644</td>\n",
       "      <td>25M</td>\n",
       "      <td>50,000,000+</td>\n",
       "      <td>Free</td>\n",
       "      <td>0</td>\n",
       "      <td>Teen</td>\n",
       "      <td>Art &amp; Design</td>\n",
       "      <td>June 8, 2018</td>\n",
       "      <td>Varies with device</td>\n",
       "      <td>4.2 and up</td>\n",
       "    </tr>\n",
       "    <tr>\n",
       "      <th>4</th>\n",
       "      <td>Pixel Draw - Number Art Coloring Book</td>\n",
       "      <td>ART_AND_DESIGN</td>\n",
       "      <td>4.3</td>\n",
       "      <td>967</td>\n",
       "      <td>2.8M</td>\n",
       "      <td>100,000+</td>\n",
       "      <td>Free</td>\n",
       "      <td>0</td>\n",
       "      <td>Everyone</td>\n",
       "      <td>Art &amp; Design;Creativity</td>\n",
       "      <td>June 20, 2018</td>\n",
       "      <td>1.1</td>\n",
       "      <td>4.4 and up</td>\n",
       "    </tr>\n",
       "  </tbody>\n",
       "</table>\n",
       "</div>"
      ],
      "text/plain": [
       "                                                 App        Category  Rating  \\\n",
       "0     Photo Editor & Candy Camera & Grid & ScrapBook  ART_AND_DESIGN     4.1   \n",
       "1                                Coloring book moana  ART_AND_DESIGN     3.9   \n",
       "2  U Launcher Lite – FREE Live Cool Themes, Hide ...  ART_AND_DESIGN     4.7   \n",
       "3                              Sketch - Draw & Paint  ART_AND_DESIGN     4.5   \n",
       "4              Pixel Draw - Number Art Coloring Book  ART_AND_DESIGN     4.3   \n",
       "\n",
       "  Reviews  Size     Installs  Type Price Content Rating  \\\n",
       "0     159   19M      10,000+  Free     0       Everyone   \n",
       "1     967   14M     500,000+  Free     0       Everyone   \n",
       "2   87510  8.7M   5,000,000+  Free     0       Everyone   \n",
       "3  215644   25M  50,000,000+  Free     0           Teen   \n",
       "4     967  2.8M     100,000+  Free     0       Everyone   \n",
       "\n",
       "                      Genres      Last Updated         Current Ver  \\\n",
       "0               Art & Design   January 7, 2018               1.0.0   \n",
       "1  Art & Design;Pretend Play  January 15, 2018               2.0.0   \n",
       "2               Art & Design    August 1, 2018               1.2.4   \n",
       "3               Art & Design      June 8, 2018  Varies with device   \n",
       "4    Art & Design;Creativity     June 20, 2018                 1.1   \n",
       "\n",
       "    Android Ver  \n",
       "0  4.0.3 and up  \n",
       "1  4.0.3 and up  \n",
       "2  4.0.3 and up  \n",
       "3    4.2 and up  \n",
       "4    4.4 and up  "
      ]
     },
     "execution_count": 4,
     "metadata": {},
     "output_type": "execute_result"
    }
   ],
   "source": [
    "data.head()\n"
   ]
  },
  {
   "cell_type": "code",
   "execution_count": 5,
   "id": "f9f93d03",
   "metadata": {
    "scrolled": true
   },
   "outputs": [
    {
     "name": "stdout",
     "output_type": "stream",
     "text": [
      "<class 'pandas.core.frame.DataFrame'>\n",
      "RangeIndex: 10841 entries, 0 to 10840\n",
      "Data columns (total 13 columns):\n",
      " #   Column          Non-Null Count  Dtype  \n",
      "---  ------          --------------  -----  \n",
      " 0   App             10841 non-null  object \n",
      " 1   Category        10841 non-null  object \n",
      " 2   Rating          9367 non-null   float64\n",
      " 3   Reviews         10841 non-null  object \n",
      " 4   Size            10841 non-null  object \n",
      " 5   Installs        10841 non-null  object \n",
      " 6   Type            10840 non-null  object \n",
      " 7   Price           10841 non-null  object \n",
      " 8   Content Rating  10840 non-null  object \n",
      " 9   Genres          10841 non-null  object \n",
      " 10  Last Updated    10841 non-null  object \n",
      " 11  Current Ver     10833 non-null  object \n",
      " 12  Android Ver     10838 non-null  object \n",
      "dtypes: float64(1), object(12)\n",
      "memory usage: 1.1+ MB\n"
     ]
    },
    {
     "data": {
      "text/html": [
       "<div>\n",
       "<style scoped>\n",
       "    .dataframe tbody tr th:only-of-type {\n",
       "        vertical-align: middle;\n",
       "    }\n",
       "\n",
       "    .dataframe tbody tr th {\n",
       "        vertical-align: top;\n",
       "    }\n",
       "\n",
       "    .dataframe thead th {\n",
       "        text-align: right;\n",
       "    }\n",
       "</style>\n",
       "<table border=\"1\" class=\"dataframe\">\n",
       "  <thead>\n",
       "    <tr style=\"text-align: right;\">\n",
       "      <th></th>\n",
       "      <th>Rating</th>\n",
       "    </tr>\n",
       "  </thead>\n",
       "  <tbody>\n",
       "    <tr>\n",
       "      <th>count</th>\n",
       "      <td>9367.000000</td>\n",
       "    </tr>\n",
       "    <tr>\n",
       "      <th>mean</th>\n",
       "      <td>4.193338</td>\n",
       "    </tr>\n",
       "    <tr>\n",
       "      <th>std</th>\n",
       "      <td>0.537431</td>\n",
       "    </tr>\n",
       "    <tr>\n",
       "      <th>min</th>\n",
       "      <td>1.000000</td>\n",
       "    </tr>\n",
       "    <tr>\n",
       "      <th>25%</th>\n",
       "      <td>4.000000</td>\n",
       "    </tr>\n",
       "    <tr>\n",
       "      <th>50%</th>\n",
       "      <td>4.300000</td>\n",
       "    </tr>\n",
       "    <tr>\n",
       "      <th>75%</th>\n",
       "      <td>4.500000</td>\n",
       "    </tr>\n",
       "    <tr>\n",
       "      <th>max</th>\n",
       "      <td>19.000000</td>\n",
       "    </tr>\n",
       "  </tbody>\n",
       "</table>\n",
       "</div>"
      ],
      "text/plain": [
       "            Rating\n",
       "count  9367.000000\n",
       "mean      4.193338\n",
       "std       0.537431\n",
       "min       1.000000\n",
       "25%       4.000000\n",
       "50%       4.300000\n",
       "75%       4.500000\n",
       "max      19.000000"
      ]
     },
     "execution_count": 5,
     "metadata": {},
     "output_type": "execute_result"
    }
   ],
   "source": [
    "# Prikaz osnovnih informacija o datasetu\n",
    "data.info()\n",
    "\n",
    "# Prikaz osnovnih statističkih mera za numeričke kolone\n",
    "data.describe()\n"
   ]
  },
  {
   "cell_type": "code",
   "execution_count": 6,
   "id": "bf75a4ec",
   "metadata": {},
   "outputs": [
    {
     "data": {
      "text/plain": [
       "App                  0\n",
       "Category             0\n",
       "Rating            1474\n",
       "Reviews              0\n",
       "Size                 0\n",
       "Installs             0\n",
       "Type                 1\n",
       "Price                0\n",
       "Content Rating       1\n",
       "Genres               0\n",
       "Last Updated         0\n",
       "Current Ver          8\n",
       "Android Ver          3\n",
       "dtype: int64"
      ]
     },
     "execution_count": 6,
     "metadata": {},
     "output_type": "execute_result"
    }
   ],
   "source": [
    "data.isnull().sum()\n"
   ]
  },
  {
   "cell_type": "code",
   "execution_count": 7,
   "id": "9454663c",
   "metadata": {},
   "outputs": [],
   "source": [
    "rating_mean = data['Rating'].mean()"
   ]
  },
  {
   "cell_type": "code",
   "execution_count": 8,
   "id": "03ca6da7",
   "metadata": {},
   "outputs": [
    {
     "name": "stdout",
     "output_type": "stream",
     "text": [
      "4.193338315362448\n"
     ]
    }
   ],
   "source": [
    "print(rating_mean)"
   ]
  },
  {
   "cell_type": "code",
   "execution_count": 9,
   "id": "5933ccf4",
   "metadata": {},
   "outputs": [],
   "source": [
    "data['Rating'].fillna(rating_mean, inplace=True)"
   ]
  },
  {
   "cell_type": "code",
   "execution_count": 10,
   "id": "5c706fbc",
   "metadata": {},
   "outputs": [
    {
     "data": {
      "text/plain": [
       "App               0\n",
       "Category          0\n",
       "Rating            0\n",
       "Reviews           0\n",
       "Size              0\n",
       "Installs          0\n",
       "Type              1\n",
       "Price             0\n",
       "Content Rating    1\n",
       "Genres            0\n",
       "Last Updated      0\n",
       "Current Ver       8\n",
       "Android Ver       3\n",
       "dtype: int64"
      ]
     },
     "execution_count": 10,
     "metadata": {},
     "output_type": "execute_result"
    }
   ],
   "source": [
    "data.isnull().sum()\n"
   ]
  },
  {
   "cell_type": "code",
   "execution_count": 11,
   "id": "f0e198cd",
   "metadata": {
    "scrolled": true
   },
   "outputs": [
    {
     "name": "stdout",
     "output_type": "stream",
     "text": [
      "Free    10039\n",
      "Paid      800\n",
      "0           1\n",
      "Name: Type, dtype: int64\n"
     ]
    }
   ],
   "source": [
    "category_counts = data['Type'].value_counts()\n",
    "\n",
    "print(category_counts)"
   ]
  },
  {
   "cell_type": "code",
   "execution_count": 12,
   "id": "75e20479",
   "metadata": {},
   "outputs": [
    {
     "name": "stdout",
     "output_type": "stream",
     "text": [
      "                                           App Category  Rating Reviews  \\\n",
      "10472  Life Made WI-Fi Touchscreen Photo Frame      1.9    19.0    3.0M   \n",
      "\n",
      "         Size Installs Type     Price Content Rating             Genres  \\\n",
      "10472  1,000+     Free    0  Everyone            NaN  February 11, 2018   \n",
      "\n",
      "      Last Updated Current Ver Android Ver  \n",
      "10472       1.0.19  4.0 and up         NaN  \n"
     ]
    }
   ],
   "source": [
    "zero_type_rows = data[data['Type'] == '0']\n",
    "\n",
    "print(zero_type_rows)"
   ]
  },
  {
   "cell_type": "code",
   "execution_count": 13,
   "id": "af73878f",
   "metadata": {},
   "outputs": [],
   "source": [
    "# Izračunavanje najčešće korišćene vrednosti u koloni 'Type'\n",
    "most_common_type = data['Type'].mode()[0]\n",
    "\n",
    "# Popunjavanje nedostajućih vrednosti u koloni 'Type' sa najčešće korišćenom vrednošću\n",
    "data['Type'].fillna(most_common_type, inplace=True)\n"
   ]
  },
  {
   "cell_type": "code",
   "execution_count": 14,
   "id": "9939a7d7",
   "metadata": {},
   "outputs": [
    {
     "data": {
      "text/plain": [
       "App               0\n",
       "Category          0\n",
       "Rating            0\n",
       "Reviews           0\n",
       "Size              0\n",
       "Installs          0\n",
       "Type              0\n",
       "Price             0\n",
       "Content Rating    1\n",
       "Genres            0\n",
       "Last Updated      0\n",
       "Current Ver       8\n",
       "Android Ver       3\n",
       "dtype: int64"
      ]
     },
     "execution_count": 14,
     "metadata": {},
     "output_type": "execute_result"
    }
   ],
   "source": [
    "data.isnull().sum()\n"
   ]
  },
  {
   "cell_type": "code",
   "execution_count": 15,
   "id": "a55367bf",
   "metadata": {},
   "outputs": [
    {
     "name": "stdout",
     "output_type": "stream",
     "text": [
      "Everyone           8714\n",
      "Teen               1208\n",
      "Mature 17+          499\n",
      "Everyone 10+        414\n",
      "Adults only 18+       3\n",
      "Unrated               2\n",
      "Name: Content Rating, dtype: int64\n"
     ]
    }
   ],
   "source": [
    "category_counts = data['Content Rating'].value_counts()\n",
    "\n",
    "print(category_counts)"
   ]
  },
  {
   "cell_type": "code",
   "execution_count": 16,
   "id": "d2875bd0",
   "metadata": {},
   "outputs": [],
   "source": [
    "data['Content Rating'].fillna(data['Content Rating'].mode()[0], inplace=True)\n",
    "data['Current Ver'].fillna(data['Current Ver'].mode()[0], inplace=True)\n",
    "data['Android Ver'].fillna(data['Android Ver'].mode()[0], inplace=True)"
   ]
  },
  {
   "cell_type": "code",
   "execution_count": 17,
   "id": "701cda6a",
   "metadata": {},
   "outputs": [
    {
     "data": {
      "text/plain": [
       "App               0\n",
       "Category          0\n",
       "Rating            0\n",
       "Reviews           0\n",
       "Size              0\n",
       "Installs          0\n",
       "Type              0\n",
       "Price             0\n",
       "Content Rating    0\n",
       "Genres            0\n",
       "Last Updated      0\n",
       "Current Ver       0\n",
       "Android Ver       0\n",
       "dtype: int64"
      ]
     },
     "execution_count": 17,
     "metadata": {},
     "output_type": "execute_result"
    }
   ],
   "source": [
    "data.isnull().sum()\n"
   ]
  },
  {
   "cell_type": "code",
   "execution_count": 18,
   "id": "f26f8892",
   "metadata": {},
   "outputs": [
    {
     "name": "stdout",
     "output_type": "stream",
     "text": [
      "             Rating\n",
      "count  10841.000000\n",
      "mean       4.193338\n",
      "std        0.499557\n",
      "min        1.000000\n",
      "25%        4.100000\n",
      "50%        4.200000\n",
      "75%        4.500000\n",
      "max       19.000000\n"
     ]
    }
   ],
   "source": [
    "print(data.describe())\n"
   ]
  },
  {
   "cell_type": "code",
   "execution_count": 19,
   "id": "92687c3c",
   "metadata": {},
   "outputs": [
    {
     "name": "stdout",
     "output_type": "stream",
     "text": [
      "FAMILY                 1972\n",
      "GAME                   1144\n",
      "TOOLS                   843\n",
      "MEDICAL                 463\n",
      "BUSINESS                460\n",
      "PRODUCTIVITY            424\n",
      "PERSONALIZATION         392\n",
      "COMMUNICATION           387\n",
      "SPORTS                  384\n",
      "LIFESTYLE               382\n",
      "FINANCE                 366\n",
      "HEALTH_AND_FITNESS      341\n",
      "PHOTOGRAPHY             335\n",
      "SOCIAL                  295\n",
      "NEWS_AND_MAGAZINES      283\n",
      "SHOPPING                260\n",
      "TRAVEL_AND_LOCAL        258\n",
      "DATING                  234\n",
      "BOOKS_AND_REFERENCE     231\n",
      "VIDEO_PLAYERS           175\n",
      "EDUCATION               156\n",
      "ENTERTAINMENT           149\n",
      "MAPS_AND_NAVIGATION     137\n",
      "FOOD_AND_DRINK          127\n",
      "HOUSE_AND_HOME           88\n",
      "LIBRARIES_AND_DEMO       85\n",
      "AUTO_AND_VEHICLES        85\n",
      "WEATHER                  82\n",
      "ART_AND_DESIGN           65\n",
      "EVENTS                   64\n",
      "PARENTING                60\n",
      "COMICS                   60\n",
      "BEAUTY                   53\n",
      "1.9                       1\n",
      "Name: Category, dtype: int64\n",
      "Free    10040\n",
      "Paid      800\n",
      "0           1\n",
      "Name: Type, dtype: int64\n",
      "Everyone           8715\n",
      "Teen               1208\n",
      "Mature 17+          499\n",
      "Everyone 10+        414\n",
      "Adults only 18+       3\n",
      "Unrated               2\n",
      "Name: Content Rating, dtype: int64\n",
      "Tools                     842\n",
      "Entertainment             623\n",
      "Education                 549\n",
      "Medical                   463\n",
      "Business                  460\n",
      "                         ... \n",
      "Arcade;Pretend Play         1\n",
      "Card;Brain Games            1\n",
      "Lifestyle;Pretend Play      1\n",
      "Comics;Creativity           1\n",
      "Strategy;Creativity         1\n",
      "Name: Genres, Length: 120, dtype: int64\n"
     ]
    }
   ],
   "source": [
    "print(data['Category'].value_counts())\n",
    "print(data['Type'].value_counts())\n",
    "print(data['Content Rating'].value_counts())\n",
    "print(data['Genres'].value_counts())\n"
   ]
  },
  {
   "cell_type": "code",
   "execution_count": 20,
   "id": "68b877a3",
   "metadata": {},
   "outputs": [],
   "source": [
    "family_apps = data[data['Category'] == 'FAMILY']\n"
   ]
  },
  {
   "cell_type": "code",
   "execution_count": 21,
   "id": "5fd6a5ff",
   "metadata": {},
   "outputs": [
    {
     "name": "stdout",
     "output_type": "stream",
     "text": [
      "                               App Category  Rating  Reviews  \\\n",
      "2014                  YouTube Kids   FAMILY     4.5   470694   \n",
      "2015                    Candy Bomb   FAMILY     4.4    42145   \n",
      "2016                        ROBLOX   FAMILY     4.5  4449910   \n",
      "2017  Jewels Crush- Match 3 Puzzle   FAMILY     4.4    14774   \n",
      "2018              Coloring & Learn   FAMILY     4.4    12753   \n",
      "\n",
      "                    Size      Installs  Type Price Content Rating  \\\n",
      "2014  Varies with device   50,000,000+  Free     0       Everyone   \n",
      "2015                 20M   10,000,000+  Free     0       Everyone   \n",
      "2016                 67M  100,000,000+  Free     0   Everyone 10+   \n",
      "2017                 19M    1,000,000+  Free     0       Everyone   \n",
      "2018                 51M    5,000,000+  Free     0       Everyone   \n",
      "\n",
      "                            Genres    Last Updated   Current Ver   Android Ver  \n",
      "2014   Entertainment;Music & Video  August 3, 2018        3.43.3    4.1 and up  \n",
      "2015            Casual;Brain Games    July 4, 2018      2.9.3181  4.0.3 and up  \n",
      "2016  Adventure;Action & Adventure   July 31, 2018  2.347.225742    4.1 and up  \n",
      "2017            Casual;Brain Games   July 23, 2018      1.9.3901  4.0.3 and up  \n",
      "2018        Educational;Creativity   July 17, 2018          1.49  4.0.3 and up  \n"
     ]
    }
   ],
   "source": [
    "print(family_apps.head())\n"
   ]
  },
  {
   "cell_type": "code",
   "execution_count": 22,
   "id": "07fef885",
   "metadata": {},
   "outputs": [
    {
     "name": "stdout",
     "output_type": "stream",
     "text": [
      "1,000,000+        1579\n",
      "10,000,000+       1252\n",
      "100,000+          1169\n",
      "10,000+           1054\n",
      "1,000+             907\n",
      "5,000,000+         752\n",
      "100+               719\n",
      "500,000+           539\n",
      "50,000+            479\n",
      "5,000+             477\n",
      "100,000,000+       409\n",
      "10+                386\n",
      "500+               330\n",
      "50,000,000+        289\n",
      "50+                205\n",
      "5+                  82\n",
      "500,000,000+        72\n",
      "1+                  67\n",
      "1,000,000,000+      58\n",
      "0+                  14\n",
      "0                    1\n",
      "Free                 1\n",
      "Name: Installs, dtype: int64\n"
     ]
    }
   ],
   "source": [
    "category_counts = data['Installs'].value_counts()\n",
    "\n",
    "print(category_counts)"
   ]
  },
  {
   "cell_type": "code",
   "execution_count": 25,
   "id": "dad547a2",
   "metadata": {},
   "outputs": [
    {
     "name": "stdout",
     "output_type": "stream",
     "text": [
      "1,000,000+        1579\n",
      "10,000,000+       1252\n",
      "100,000+          1169\n",
      "10,000+           1054\n",
      "1,000+             907\n",
      "5,000,000+         752\n",
      "100+               719\n",
      "500,000+           539\n",
      "50,000+            479\n",
      "5,000+             477\n",
      "100,000,000+       409\n",
      "10+                386\n",
      "500+               330\n",
      "50,000,000+        289\n",
      "50+                205\n",
      "5+                  82\n",
      "500,000,000+        72\n",
      "1+                  67\n",
      "1,000,000,000+      58\n",
      "0+                  14\n",
      "Name: Installs, dtype: int64\n"
     ]
    }
   ],
   "source": [
    "category_counts = data['Installs'].value_counts()\n",
    "\n",
    "print(category_counts)"
   ]
  },
  {
   "cell_type": "code",
   "execution_count": null,
   "id": "d6582271",
   "metadata": {},
   "outputs": [],
   "source": [
    "# Filtriranje podataka za kategoriju 'FAMILY'\n",
    "family_apps = data[data['Category'] == 'FAMILY']\n",
    "\n",
    "# Sortiranje po 'Installs' u opadajućem redosledu da bismo dobili top 5 aplikacija\n",
    "top_family_apps = family_apps.sort_values(by='Installs', ascending=False).head(5)\n",
    "\n",
    "# Prikaz rezultata\n",
    "print(top_family_apps[['App', 'Installs']])\n"
   ]
  },
  {
   "cell_type": "code",
   "execution_count": null,
   "id": "a84365a5",
   "metadata": {},
   "outputs": [],
   "source": [
    "import matplotlib.pyplot as plt\n",
    "import seaborn as sns\n",
    "\n",
    "# Primer: Histogram ocena aplikacija\n",
    "plt.figure(figsize=(8, 6))\n",
    "sns.histplot(data['Rating'], bins=20, kde=True)\n",
    "plt.title('Distribucija ocena aplikacija')\n",
    "plt.xlabel('Ocena')\n",
    "plt.ylabel('Broj aplikacija')\n",
    "plt.show()\n",
    "\n",
    "\n"
   ]
  },
  {
   "cell_type": "code",
   "execution_count": null,
   "id": "3ee2c715",
   "metadata": {},
   "outputs": [],
   "source": [
    "# Primer: Broj aplikacija po kategorijama\n",
    "plt.figure(figsize=(12, 8))\n",
    "sns.countplot(y='Category', data=data, order=data['Category'].value_counts().index)\n",
    "plt.title('Broj aplikacija po kategorijama')\n",
    "plt.xlabel('Broj aplikacija')\n",
    "plt.ylabel('Kategorija')\n",
    "plt.show()"
   ]
  },
  {
   "cell_type": "code",
   "execution_count": null,
   "id": "2ea0fbdd",
   "metadata": {},
   "outputs": [],
   "source": [
    "# Pretvaranje kolone 'Reviews' u numerički tip podataka\n",
    "data['Reviews'] = pd.to_numeric(data['Reviews'], errors='coerce')\n",
    "\n",
    "# Izračunavanje prosečnog broja recenzija po aplikaciji\n",
    "average_reviews = data['Reviews'].mean()\n",
    "print(f'Prosečan broj recenzija po aplikaciji je {average_reviews:.2f}.')\n"
   ]
  },
  {
   "cell_type": "code",
   "execution_count": null,
   "id": "aada0511",
   "metadata": {},
   "outputs": [],
   "source": [
    "category_counts = data['Price'].value_counts()\n",
    "\n",
    "print(category_counts)"
   ]
  },
  {
   "cell_type": "code",
   "execution_count": null,
   "id": "3785878b",
   "metadata": {},
   "outputs": [],
   "source": [
    "# Konverzija svih vrednosti u koloni 'Price' u string\n",
    "data['Price'] = data['Price'].astype(str)\n",
    "\n",
    "# Uklanjanje znaka '$' iz kolone 'Price' i konverzija u float\n",
    "data['Price'] = data['Price'].str.replace('$', '', regex=False).astype(float)\n",
    "\n",
    "# Provera prvih nekoliko redova da biste videli promene\n",
    "print(data[['App', 'Price']].head())\n"
   ]
  },
  {
   "cell_type": "code",
   "execution_count": null,
   "id": "42e01712",
   "metadata": {},
   "outputs": [],
   "source": [
    "category_counts = data['Price'].value_counts()\n",
    "\n",
    "print(category_counts)"
   ]
  },
  {
   "cell_type": "code",
   "execution_count": null,
   "id": "e29fbd48",
   "metadata": {},
   "outputs": [],
   "source": [
    "import numpy as np\n",
    "\n",
    "# Zameniti 'Varies with device' sa NaN\n",
    "data['Size'].replace('Varies with device', np.nan, inplace=True)\n",
    "\n",
    "# Ukloniti sufikse 'M' i 'k', i konvertovati u bajte\n",
    "def convert_size(size):\n",
    "    if isinstance(size, str):\n",
    "        if 'M' in size:\n",
    "            return float(size.replace('M', '')) * 1_000_000\n",
    "        elif 'k' in size:\n",
    "            return float(size.replace('k', '')) * 1_000\n",
    "    return np.nan\n",
    "\n",
    "data['Size'] = data['Size'].apply(convert_size)\n",
    "\n",
    "# Prikazivanje nekoliko redova kolone 'Size' da bismo videli promene\n",
    "print(data[['App', 'Size']].head())\n"
   ]
  },
  {
   "cell_type": "code",
   "execution_count": null,
   "id": "45583e3a",
   "metadata": {},
   "outputs": [],
   "source": [
    "# Izračunavanje srednje vrednosti u bajtima\n",
    "mean_size_bytes = data['Size'].mean()\n",
    "\n",
    "# Konverzija u kilobajte\n",
    "mean_size_kb = mean_size_bytes / 1_000\n",
    "\n",
    "# Konverzija u megabajte\n",
    "mean_size_mb = mean_size_bytes / 1_000_000\n",
    "\n",
    "# Prikazivanje rezultata\n",
    "print(f\"Srednja vrednost veličine aplikacija:\")\n",
    "print(f\"U bajtima: {mean_size_bytes:.2f} B\")\n",
    "print(f\"U kilobajtima: {mean_size_kb:.2f} KB\")\n",
    "print(f\"U megabajtima: {mean_size_mb:.2f} MB\")\n"
   ]
  },
  {
   "cell_type": "code",
   "execution_count": null,
   "id": "c841ffe5",
   "metadata": {},
   "outputs": [],
   "source": [
    "import pandas as pd\n",
    "from sklearn.model_selection import train_test_split\n",
    "from sklearn.ensemble import RandomForestRegressor\n",
    "from sklearn.metrics import mean_absolute_error, mean_squared_error, r2_score\n",
    "\n",
    "# Učitavanje podataka\n",
    "data = pd.read_csv('C:\\\\Users\\\\Mihael\\\\Documents\\\\play_store_analys\\\\googleplaystore.csv\\\\googleplaystore.csv')\n",
    "\n",
    "# Prikaz nevalidnih vrednosti u koloni 'Last Updated'\n",
    "invalid_dates = data[~data['Last Updated'].str.contains('\\d{1,2}/\\d{1,2}/\\d{4}', na=False)]\n",
    "\n",
    "# Uklanjanje redova sa nevalidnim datumima\n",
    "data = data.drop(invalid_dates.index)\n",
    "\n",
    "# Konverzija u datetime format\n",
    "data['Last Updated'] = pd.to_datetime(data['Last Updated'], errors='coerce')\n",
    "\n",
    "# Pretpostavka: Pretvaranje 'Last Updated' u broj dana od najstarijeg datuma\n",
    "data['Days Since Last Updated'] = (data['Last Updated'] - data['Last Updated'].min()).dt.days\n",
    "\n",
    "# Odabir relevantnih kolona (feature engineering)\n",
    "features = ['Rating', 'Reviews', 'Price', 'Size', 'Days Since Last Updated']\n",
    "target = 'Installs'\n",
    "\n",
    "# Konverzija kategorijalnih varijabli u numeričke\n",
    "data = pd.get_dummies(data, columns=['Category'])\n",
    "\n",
    "# Podela podataka na trening i test skupove\n",
    "X = data[features + [col for col in data.columns if 'Category_' in col]]\n",
    "y = data[target]\n",
    "\n",
    "# Provera broja uzoraka u podacima\n",
    "print(f\"Ukupan broj uzoraka: {len(data)}\")\n",
    "print(f\"Broj kolona u X-u: {len(X.columns)}\")\n",
    "\n",
    "# Podešavanje test_size ili train_size parametra u train_test_split\n",
    "test_size = 0.2  # Podešavanje veličine test skupa\n",
    "if test_size >= len(X):\n",
    "    raise ValueError(f\"Veličina test skupa ({test_size}) ne može biti veća od broja dostupnih uzoraka ({len(X)})\")\n",
    "\n",
    "# Podela podataka\n",
    "X_train, X_test, y_train, y_test = train_test_split(X, y, test_size=test_size, random_state=42)\n",
    "\n",
    "# Treniranje Random Forest modela\n",
    "model = RandomForestRegressor(n_estimators=100, random_state=42)\n",
    "model.fit(X_train, y_train)\n",
    "\n",
    "# Predviđanje na test skupu\n",
    "y_pred = model.predict(X_test)\n",
    "\n",
    "# Evaluacija modela\n",
    "mae = mean_absolute_error(y_test, y_pred)\n",
    "mse = mean_squared_error(y_test, y_pred)\n",
    "r2 = r2_score(y_test, y_pred)\n",
    "\n",
    "print(f'Mean Absolute Error: {mae}')\n",
    "print(f'Mean Squared Error: {mse}')\n",
    "print(f'R^2 Score: {r2}')\n",
    "\n",
    "# Predviđanje buduće prodaje (primer)\n",
    "future_data = pd.DataFrame({\n",
    "    'Rating': [4.5],\n",
    "    'Reviews': [15000],\n",
    "    'Price': [0],\n",
    "    'Size': [50000000],\n",
    "    'Last Updated': ['2023-01-01']\n",
    "})\n",
    "\n",
    "# Pretvaranje kategorijalnih varijabli u numeričke za buduće podatke\n",
    "future_data = pd.get_dummies(future_data, columns=['Category'])\n",
    "\n",
    "# Dodavanje nedostajućih dummy kolona za kategorije koje nisu uključene u `future_data`\n",
    "missing_cols = set(X.columns) - set(future_data.columns)\n",
    "for col in missing_cols:\n",
    "    future_data[col] = 0\n",
    "\n",
    "# Predviđanje\n",
    "future_prediction = model.predict(future_data[features])\n",
    "\n",
    "print(f'Predviđeni broj preuzimanja: {future_prediction[0]}')\n"
   ]
  },
  {
   "cell_type": "code",
   "execution_count": null,
   "id": "9ee225e5",
   "metadata": {},
   "outputs": [],
   "source": []
  },
  {
   "cell_type": "code",
   "execution_count": null,
   "id": "9ef6ecc2",
   "metadata": {},
   "outputs": [],
   "source": []
  },
  {
   "cell_type": "code",
   "execution_count": null,
   "id": "a37f6726",
   "metadata": {},
   "outputs": [],
   "source": []
  },
  {
   "cell_type": "code",
   "execution_count": null,
   "id": "f4e102a2",
   "metadata": {},
   "outputs": [],
   "source": []
  },
  {
   "cell_type": "code",
   "execution_count": null,
   "id": "bb36c6f8",
   "metadata": {},
   "outputs": [],
   "source": []
  }
 ],
 "metadata": {
  "kernelspec": {
   "display_name": "Python 3 (ipykernel)",
   "language": "python",
   "name": "python3"
  },
  "language_info": {
   "codemirror_mode": {
    "name": "ipython",
    "version": 3
   },
   "file_extension": ".py",
   "mimetype": "text/x-python",
   "name": "python",
   "nbconvert_exporter": "python",
   "pygments_lexer": "ipython3",
   "version": "3.9.12"
  }
 },
 "nbformat": 4,
 "nbformat_minor": 5
}
